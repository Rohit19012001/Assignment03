{
 "cells": [
  {
   "cell_type": "markdown",
   "id": "87c3ccf5",
   "metadata": {},
   "source": [
    "# Q1= what is the difference between set and dictionary,Explain with the suitable example\n"
   ]
  },
  {
   "cell_type": "code",
   "execution_count": 1,
   "id": "1de68e58",
   "metadata": {},
   "outputs": [],
   "source": [
    "s1={1,2,3,4,5}"
   ]
  },
  {
   "cell_type": "code",
   "execution_count": 2,
   "id": "cf7213ad",
   "metadata": {},
   "outputs": [
    {
     "data": {
      "text/plain": [
       "{1, 2, 3, 4, 5}"
      ]
     },
     "execution_count": 2,
     "metadata": {},
     "output_type": "execute_result"
    }
   ],
   "source": [
    "s1"
   ]
  },
  {
   "cell_type": "code",
   "execution_count": 3,
   "id": "94d5041d",
   "metadata": {},
   "outputs": [],
   "source": [
    "d1={'name:Rohit','age:22','roll no:22'}"
   ]
  },
  {
   "cell_type": "code",
   "execution_count": 4,
   "id": "dc6ca578",
   "metadata": {},
   "outputs": [
    {
     "data": {
      "text/plain": [
       "{'age:22', 'name:Rohit', 'roll no:22'}"
      ]
     },
     "execution_count": 4,
     "metadata": {},
     "output_type": "execute_result"
    }
   ],
   "source": [
    "d1"
   ]
  },
  {
   "cell_type": "markdown",
   "id": "dc3d47e4",
   "metadata": {},
   "source": [
    "# 2\n",
    "rows = 3  # Number of rows in the pattern\n",
    "\n",
    "for i in range(rows):\n",
    "    for j in range(i + 1):\n",
    "        print(\"*\", end=\"\")\n",
    "    print()\n"
   ]
  },
  {
   "cell_type": "markdown",
   "id": "fc5cda71",
   "metadata": {},
   "source": [
    "# Q3 natural number in ascending order\n",
    "n = 1  # Starting number\n",
    "\n",
    "while n <= 15:  # Define the range of numbers\n",
    "    print(n)\n",
    "    n += 1\n",
    "\n"
   ]
  },
  {
   "cell_type": "markdown",
   "id": "540d8501",
   "metadata": {},
   "source": [
    "# Q4\n",
    "a=7\n",
    "b=6\n",
    "\n",
    "print(\"\\n.before swapping\")\n",
    "print('a=',a)\n",
    "print('b=',b)\n",
    "\n",
    "a=a+b\n",
    "b=a-b\n",
    "a=a-b\n",
    "\n",
    "print(\"\\n.after swapping\")\n",
    "print('a=',a)\n",
    "print('b=',b)"
   ]
  },
  {
   "cell_type": "code",
   "execution_count": 19,
   "id": "99904d11",
   "metadata": {},
   "outputs": [
    {
     "name": "stdout",
     "output_type": "stream",
     "text": [
      "*\n",
      "**\n",
      "***\n"
     ]
    }
   ],
   "source": [
    "n=4\n",
    "for i in range(1,n):\n",
    "    print(\"*\"*i)\n",
    "    i=i+ 1  \n",
    "\n",
    "    "
   ]
  },
  {
   "cell_type": "markdown",
   "id": "e5db0323",
   "metadata": {},
   "source": [
    "# Q5\n",
    "def greet():\n",
    "    name=\"Pranav\"\n",
    "    print(name, \"hi bro\")\n",
    "    "
   ]
  },
  {
   "cell_type": "code",
   "execution_count": 30,
   "id": "72a91796",
   "metadata": {},
   "outputs": [
    {
     "name": "stdout",
     "output_type": "stream",
     "text": [
      "Pranav hi bro\n"
     ]
    }
   ],
   "source": [
    "greet()"
   ]
  },
  {
   "cell_type": "markdown",
   "id": "e5f36af7",
   "metadata": {},
   "source": [
    "# Q6\n",
    "d=list(range(1,11))\n",
    "d\n",
    "l1=[x**2 for x in d]\n",
    "l1\n",
    "\n"
   ]
  },
  {
   "cell_type": "markdown",
   "id": "2320631c",
   "metadata": {},
   "source": [
    "# Q7\n",
    "class Animal:\n",
    "    def sound(self):\n",
    "        pass\n",
    "\n",
    "class Dog(Animal):\n",
    "    def sound(self):\n",
    "        return \"Woof!\"\n",
    "\n",
    "class Cat(Animal):\n",
    "    def sound(self):\n",
    "        return \"Meow!\"\n",
    "\n",
    "class Cow(Animal):\n",
    "    def sound(self):\n",
    "        return \"Moo!\"\n",
    "\n",
    "# Create instances of different animals\n",
    "dog = Dog()\n",
    "cat = Cat()\n",
    "cow = Cow()\n",
    "\n",
    "# Call the sound method on each animal\n",
    "print(dog.sound())  \n",
    "print(cat.sound())  \n",
    "print(cow.sound())  \n"
   ]
  },
  {
   "cell_type": "markdown",
   "id": "884ff6e6",
   "metadata": {},
   "source": [
    "# Q8\n",
    "Conditional probability :\n",
    "    This is to say that the chance of one event happening is conditional on another event happening.\n",
    "    \n",
    "    The probability that you get a six, given that you drew a red card is P(6│red) = 2/26 = 1/13, \n",
    "    since there are two sixes out of 26 red cards.\n",
    "Let’s assume we have two events, A and B.\n",
    "The conditional probability of A given B is written as P(A|B).\n",
    "\n",
    "It is the probability of A’s occurrence, assuming that B occurred.\n",
    "In other words, we focus only on the outcomes where B occurs.\n",
    "\n",
    "Using these, we want to know the probability of A‘s occurrence. \n",
    "So, we do not count occurrences of A in all outcomes. Instead, we count occurrences of A in outcomes where B also occurred.\n",
    "                               # p(a and b) = p(a) * p(b)\n",
    "p(a/b) = p(a and b)  \n",
    "        ___________           \n",
    "           p(b) \n",
    "           \n",
    "p(card 6/red)   = 1/26 /1/2= 1/13\n",
    "\n",
    "p(b/a) = p(b and a)\n",
    "        ____________\n",
    "            p(a)"
   ]
  },
  {
   "cell_type": "markdown",
   "id": "7d4871ac",
   "metadata": {},
   "source": [
    "# Q9\n",
    "\n",
    "In a normal distribution, 68% of the observations fall within +/- 1 standard deviation from the mean\n",
    "\n",
    "\n",
    "Mean +/- standard deviations\tPercentage of data contained\n",
    "1\t                                 68%\n",
    "2\t                                 95%\n",
    "3\t                                 99.7%\n",
    "\n",
    "\n",
    "\n",
    "\n",
    "\n",
    "\n",
    "\n",
    "\n"
   ]
  },
  {
   "cell_type": "markdown",
   "id": "52afb423",
   "metadata": {},
   "source": [
    "# Q10\n",
    "HYPOTHESIS TESTING:A statistical test is a method of statistical inference used to decide wheather the data at hand sufficiently support a particular hypothesis.\n",
    "   \n",
    "Hypothesis testing allows us to make probabilistic  statements about population\n",
    "parameters.\n",
    "\n",
    "P value  is the probability of null hypothesis being true.\n",
    "    \n",
    "Eg : GDP before covid and after are same : Ho( status quo)\n",
    "     GDP before covid and  after are not same : H1( challenger)alternative hypothesis\n"
   ]
  },
  {
   "cell_type": "markdown",
   "id": "253b02cd",
   "metadata": {},
   "source": [
    "# Q11\n",
    "1.binomial disrtibution\n",
    "eg= result of exam\n",
    "={pass,fail}\n",
    " \n",
    "2. uniform distribution \n",
    "eg=selecting a student in class for seminar\n",
    "\n",
    "3. normal distribution\n",
    "eg.height of people\n",
    "\n",
    "4.exponential distribution\n",
    "eg.lifetime of bulbs \n",
    "\n",
    "5. poisson distribution\n",
    "eg. number of patient in december\n",
    "\n",
    "\n"
   ]
  },
  {
   "cell_type": "code",
   "execution_count": null,
   "id": "e4f6a803",
   "metadata": {},
   "outputs": [],
   "source": []
  }
 ],
 "metadata": {
  "kernelspec": {
   "display_name": "Python 3 (ipykernel)",
   "language": "python",
   "name": "python3"
  },
  "language_info": {
   "codemirror_mode": {
    "name": "ipython",
    "version": 3
   },
   "file_extension": ".py",
   "mimetype": "text/x-python",
   "name": "python",
   "nbconvert_exporter": "python",
   "pygments_lexer": "ipython3",
   "version": "3.10.9"
  }
 },
 "nbformat": 4,
 "nbformat_minor": 5
}
